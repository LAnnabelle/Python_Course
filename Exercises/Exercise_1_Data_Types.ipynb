{
 "cells": [
  {
   "cell_type": "markdown",
   "metadata": {},
   "source": [
    "# Introduction to Python   \n",
    "\n",
    "### Data Types"
   ]
  },
  {
   "cell_type": "markdown",
   "metadata": {},
   "source": [
    "1 - What are the Python most common bultin data types?    \n",
    "Give examples creating variables for each of them.  "
   ]
  },
  {
   "cell_type": "code",
   "execution_count": null,
   "metadata": {},
   "outputs": [],
   "source": [
    "#text\n",
    "str = \"I am a string\""
   ]
  },
  {
   "cell_type": "code",
   "execution_count": null,
   "metadata": {},
   "outputs": [],
   "source": [
    "#numberics\n",
    "x = 0 #integer\n",
    "y = 5.5 #float"
   ]
  },
  {
   "cell_type": "code",
   "execution_count": null,
   "metadata": {},
   "outputs": [],
   "source": [
    "#Boolean\n",
    "b = True"
   ]
  },
  {
   "cell_type": "code",
   "execution_count": null,
   "metadata": {},
   "outputs": [],
   "source": [
    "#set\n",
    "set = {1, 3}"
   ]
  },
  {
   "cell_type": "code",
   "execution_count": null,
   "metadata": {},
   "outputs": [],
   "source": [
    "#binary\n",
    "b = bytes(2) #bytes"
   ]
  },
  {
   "cell_type": "code",
   "execution_count": null,
   "metadata": {},
   "outputs": [],
   "source": [
    "#sequence\n",
    "list = [1, 3, 6, 9]"
   ]
  },
  {
   "cell_type": "code",
   "execution_count": null,
   "metadata": {},
   "outputs": [],
   "source": [
    "#mapping\n",
    "dictionary = {\"size\": \"large\",\n",
    "        \"color\": \"red\",\n",
    "        \"year\": 1997\n",
    "        }"
   ]
  },
  {
   "cell_type": "markdown",
   "metadata": {},
   "source": [
    "2 - Exemplify at least 5 ways to convert data types, using the variables that were created in the previous question:  "
   ]
  },
  {
   "cell_type": "code",
   "execution_count": null,
   "metadata": {},
   "outputs": [],
   "source": [
    "y = 5.5\n",
    "int(y)"
   ]
  },
  {
   "cell_type": "code",
   "execution_count": null,
   "metadata": {},
   "outputs": [],
   "source": [
    "x = 0\n",
    "float(x)\n"
   ]
  },
  {
   "cell_type": "code",
   "execution_count": null,
   "metadata": {},
   "outputs": [],
   "source": [
    "x = 0\n",
    "complex(x)"
   ]
  },
  {
   "cell_type": "code",
   "execution_count": null,
   "metadata": {},
   "outputs": [],
   "source": [
    "x = 0\n",
    "bool(x)"
   ]
  },
  {
   "cell_type": "code",
   "execution_count": null,
   "metadata": {},
   "outputs": [],
   "source": [
    "list = [1, 3, 6, 9]\n",
    "tuple(list)"
   ]
  },
  {
   "cell_type": "markdown",
   "metadata": {},
   "source": [
    "3- Exemplify the use of individual or combined built-in data types to create the following data structures:  \n",
    "\n",
    "+ A medical record  \n",
    "+ A pixel matrix in RGB format  \n",
    "+ A set of geographical coordinates representing the Mayor's Office and The fire brigade in 5 different cities  "
   ]
  },
  {
   "cell_type": "code",
   "execution_count": null,
   "metadata": {},
   "outputs": [],
   "source": [
    "medical_records = {\"name\": \"Jane Doe\",\n",
    "                   \"birthdate\": \"22/04/1967\",\n",
    "                   \"diagnosis\": \"arthritis\",\n",
    "                   \"date of entry\": \"16/08/2020\",\n",
    "                   }"
   ]
  },
  {
   "cell_type": "code",
   "execution_count": null,
   "metadata": {},
   "outputs": [],
   "source": [
    "colors = [[\"cerulean\", \"maroon\", \"turmeric\"], \n",
    "          [\"rgb(0, 123, 167)\", \"rgb(128,0,0)\", \"rgb(240, 202, 40)\"]]"
   ]
  },
  {
   "cell_type": "code",
   "execution_count": null,
   "metadata": {},
   "outputs": [],
   "source": [
    "Paris = {\"mayor_off\": \"51.5048° N, 0.0786° W\",\n",
    "         \"fire_brig\": \"51.4928° N, 0.1202° W\" \n",
    "         }\n",
    "\n",
    "London = {\"mayor_off\": \"48.8566° N, 2.3522° E\",\n",
    "          \"fire_brig\": \"51.5276° N, 0.1308° W\"\n",
    "          }\n",
    "\n",
    "Milan = {\"mayor_off\": \"42.0819° N, 83.6850° W\",\n",
    "         \"fire_brig\": \"39.1263° N, 85.1306° W\"\n",
    "         }\n",
    "\n",
    "Madrid = {\"mayor_off\": \"40.4168° N, 3.7038° W\",\n",
    "          \"fire_brig\": \"41.8748° N, 93.8214° W\"\n",
    "          }\n",
    "\n",
    "Seattle = {\"mayor_off\": \"47.6062° N, 122.3321° W\", \n",
    "           \"fire_brig\": \"47.5999° N, 122.3318° W\"\n",
    "           }\n",
    "\n",
    "city_coord = [Paris, London, Milan, Madrid, Seattle]"
   ]
  },
  {
   "cell_type": "markdown",
   "metadata": {},
   "source": [
    "4- Give some examples on how to access the data in the data structures created in the previous question:"
   ]
  },
  {
   "cell_type": "code",
   "execution_count": null,
   "metadata": {},
   "outputs": [],
   "source": [
    "#by index\n",
    "city_coord = [Paris, London, Milan, Madrid, Seattle]\n",
    "city_coord[1]"
   ]
  },
  {
   "cell_type": "code",
   "execution_count": null,
   "metadata": {},
   "outputs": [],
   "source": [
    "#by name\n",
    "medical_records = {\"name\": \"Jane Doe\",\n",
    "                   \"birthdate\": \"22/04/1967\",\n",
    "                   \"diagnosis\": \"arthritis\",\n",
    "                   \"date of entry\": \"16/08/2020\",\n",
    "                   }\n",
    "\n",
    "medical_records[\"name\"]"
   ]
  },
  {
   "cell_type": "code",
   "execution_count": null,
   "metadata": {},
   "outputs": [],
   "source": [
    "#by column/row\n",
    "colors = [[\"cerulean\", \"maroon\", \"turmeric\"], \n",
    "          [\"rgb(0, 123, 167)\", \"rgb(128,0,0)\", \"rgb(240, 202, 40)\"]]\n",
    "colors[[1][0]]"
   ]
  },
  {
   "cell_type": "markdown",
   "metadata": {},
   "source": [
    "5- Explain with examples the differences between:  \n",
    "\n",
    "+ Mutable and immutable types  \n",
    "+ Container types  \n",
    "+ Sequential types  "
   ]
  },
  {
   "cell_type": "code",
   "execution_count": null,
   "metadata": {},
   "outputs": [],
   "source": [
    "#mutables can be changed\n",
    "\n",
    "#changes the original list\n",
    "plants = [\"buttercup\", \"aloe vera\", \"cactus\"]\n",
    "plants.append(\"rose\")\n",
    "plants\n",
    "\n",
    "#immutables are set once defined\n",
    "\n",
    "#tupple can't be appended\n",
    "hand = (\"thumb\", \"index finger\", \"middle finger\", \"ring finger\",\"pinky\")\n",
    "hand.append(\"sixth finger\")"
   ]
  },
  {
   "cell_type": "code",
   "execution_count": null,
   "metadata": {},
   "outputs": [],
   "source": [
    "#container types reference other objects\n",
    "dict = {1: \"first\",\n",
    "        2: \"second\",\n",
    "        }"
   ]
  },
  {
   "cell_type": "code",
   "execution_count": null,
   "metadata": {},
   "outputs": [],
   "source": [
    "#sequental types are ordered sets\n",
    "str = \"I am a sequence of characters\" #strings have characters at ordered indexed positions"
   ]
  },
  {
   "cell_type": "markdown",
   "metadata": {},
   "source": [
    "6- Exemplify method calls on variables associated with data types that:\n",
    "+ Do not modify the variable and do not return values when the method is called  \n",
    "+ Modify the variable but do not return values when the method is called  \n",
    "+ Do not modify the variable but return values to the method call  \n",
    "+ Modify the variable and return values to the method call  "
   ]
  },
  {
   "cell_type": "code",
   "execution_count": null,
   "metadata": {},
   "outputs": [],
   "source": [
    "breads = (\"toast\", \"baguette\", \"sourdough\", \"rye\")\n",
    "breads.append()"
   ]
  },
  {
   "cell_type": "code",
   "execution_count": null,
   "metadata": {},
   "outputs": [],
   "source": [
    "apples = [\"red delicious\", \"fuji\", \"cosmic crisp\",\"gala\"]\n",
    "apples.insert(2,\"honeycrisp\")"
   ]
  },
  {
   "cell_type": "code",
   "execution_count": null,
   "metadata": {},
   "outputs": [],
   "source": [
    "breads = (\"toast\", \"baguette\", \"sourdough\", \"rye\")\n",
    "breads.index(\"baguette\")"
   ]
  },
  {
   "cell_type": "code",
   "execution_count": null,
   "metadata": {},
   "outputs": [],
   "source": [
    "apples = [\"red delicious\", \"fuji\", \"cosmic crisp\",\"gala\"]\n",
    "apples.pop()\n",
    "apples"
   ]
  },
  {
   "cell_type": "markdown",
   "metadata": {},
   "source": [
    "7- Exemplify the use of methods for:\n",
    "+ Test whether a string can be converted to an integer  \n",
    "+ Test if a set is a subset of another set    \n",
    "+ Concatenate two lists  \n",
    "+ Count the occurrences of an element in a list  "
   ]
  },
  {
   "cell_type": "code",
   "execution_count": null,
   "metadata": {},
   "outputs": [],
   "source": [
    "str = \"20\"\n",
    "int(str)"
   ]
  },
  {
   "cell_type": "code",
   "execution_count": null,
   "metadata": {},
   "outputs": [],
   "source": [
    "set1 = {4, 5}\n",
    "set2 = {4, 5, 6, 7, 8}\n",
    "set1.issubset(set2)"
   ]
  },
  {
   "cell_type": "code",
   "execution_count": null,
   "metadata": {},
   "outputs": [],
   "source": [
    "amphibians = [\"frog\", \"newt\", \"salamander\"]\n",
    "reptiles = [\"snake\", \"turtle\", \"lizard\"]\n",
    "\n",
    "amphibians.extend(reptiles)\n",
    "amphibians"
   ]
  },
  {
   "cell_type": "code",
   "execution_count": null,
   "metadata": {},
   "outputs": [],
   "source": [
    "fruits = [\"apple\", \"orange\", \"watermelon\", \"lime\", \"apple\"]\n",
    "apple_num = fruits.count(\"apple\")\n",
    "apple_num"
   ]
  },
  {
   "cell_type": "markdown",
   "metadata": {},
   "source": [
    "Describe, in general terms, what a programming language is, and what it is for.  "
   ]
  },
  {
   "cell_type": "code",
   "execution_count": null,
   "metadata": {},
   "outputs": [],
   "source": [
    "#A programming language is a computer-readable and human-readable language with its own syntax and vocabulary. It is used to write computer programs or in other words instructions as a series of tasks for a computer. Computer program uses range from simple tasks such as solving mathematical problems, to animation, apps, video games, etc."
   ]
  }
 ],
 "metadata": {
  "kernelspec": {
   "display_name": "Python 3",
   "language": "python",
   "name": "python3"
  },
  "language_info": {
   "codemirror_mode": {
    "name": "ipython",
    "version": 3
   },
   "file_extension": ".py",
   "mimetype": "text/x-python",
   "name": "python",
   "nbconvert_exporter": "python",
   "pygments_lexer": "ipython3",
   "version": "3.8.8"
  }
 },
 "nbformat": 4,
 "nbformat_minor": 4
}
