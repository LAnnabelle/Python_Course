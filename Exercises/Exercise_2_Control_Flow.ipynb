{
 "cells": [
  {
   "cell_type": "markdown",
   "metadata": {},
   "source": [
    "# Introduction to Python   \n",
    "\n",
    "### Control Flow"
   ]
  },
  {
   "cell_type": "code",
   "execution_count": 1,
   "metadata": {},
   "outputs": [],
   "source": [
    "import time\n",
    "import random"
   ]
  },
  {
   "cell_type": "markdown",
   "metadata": {},
   "source": [
    "A brief note about measuring time to run a cell  "
   ]
  },
  {
   "cell_type": "code",
   "execution_count": 2,
   "metadata": {},
   "outputs": [
    {
     "name": "stdout",
     "output_type": "stream",
     "text": [
      "51.17707003576188\n"
     ]
    }
   ],
   "source": [
    "print(time.time()/((3600*24*365)+13)) # The Unix time started in 1970..."
   ]
  },
  {
   "cell_type": "raw",
   "metadata": {},
   "source": [
    "t0 = time.time()\n",
    "<code>\n",
    "print(time.time() - t0)"
   ]
  },
  {
   "cell_type": "markdown",
   "metadata": {},
   "source": [
    "### 1- Create a script that prints the numbers from 1 to 100, following these rules:   \n",
    "\n",
    "1. in those that are multiples of 3, print \"Fizz\" instead of the number.  \n",
    "2. in those that are  multiples of 5 print \"Buzz\" instead of the number.  \n",
    "3. For numbers that are multiples of both 3 and 5, print \"FizzBuzz\".  "
   ]
  },
  {
   "cell_type": "code",
   "execution_count": 21,
   "metadata": {},
   "outputs": [
    {
     "name": "stdout",
     "output_type": "stream",
     "text": [
      "1\n",
      "2\n",
      "Fizz\n",
      "4\n",
      "Buzz\n",
      "Fizz\n",
      "7\n",
      "8\n",
      "Fizz\n",
      "Buzz\n",
      "11\n",
      "Fizz\n",
      "13\n",
      "14\n",
      "Fizz\n",
      "16\n",
      "17\n",
      "Fizz\n",
      "19\n",
      "Buzz\n",
      "Fizz\n",
      "22\n",
      "23\n",
      "Fizz\n",
      "Buzz\n",
      "26\n",
      "Fizz\n",
      "28\n",
      "29\n",
      "Fizz\n",
      "31\n",
      "32\n",
      "Fizz\n",
      "34\n",
      "Buzz\n",
      "Fizz\n",
      "37\n",
      "38\n",
      "Fizz\n",
      "Buzz\n",
      "41\n",
      "Fizz\n",
      "43\n",
      "44\n",
      "Fizz\n",
      "46\n",
      "47\n",
      "Fizz\n",
      "49\n",
      "Buzz\n",
      "Fizz\n",
      "52\n",
      "53\n",
      "Fizz\n",
      "Buzz\n",
      "56\n",
      "Fizz\n",
      "58\n",
      "59\n",
      "Fizz\n",
      "61\n",
      "62\n",
      "Fizz\n",
      "64\n",
      "Buzz\n",
      "Fizz\n",
      "67\n",
      "68\n",
      "Fizz\n",
      "Buzz\n",
      "71\n",
      "Fizz\n",
      "73\n",
      "74\n",
      "Fizz\n",
      "76\n",
      "77\n",
      "Fizz\n",
      "79\n",
      "Buzz\n",
      "Fizz\n",
      "82\n",
      "83\n",
      "Fizz\n",
      "Buzz\n",
      "86\n",
      "Fizz\n",
      "88\n",
      "89\n",
      "Fizz\n",
      "91\n",
      "92\n",
      "Fizz\n",
      "94\n",
      "Buzz\n",
      "Fizz\n",
      "97\n",
      "98\n",
      "Fizz\n",
      "Buzz\n"
     ]
    }
   ],
   "source": [
    "for x in range (1, 101):\n",
    "    if x%3 == 0:\n",
    "        print(\"Fizz\")\n",
    "    elif x%5 == 0:\n",
    "        print(\"Buzz\")\n",
    "    elif x%5 == 0 and x%5 == 0:\n",
    "        print(\"FizzBuzz\")\n",
    "    else:\n",
    "        print(x)\n",
    "        "
   ]
  },
  {
   "cell_type": "markdown",
   "metadata": {},
   "source": [
    "### 2 - Given the list:"
   ]
  },
  {
   "cell_type": "code",
   "execution_count": 3,
   "metadata": {},
   "outputs": [],
   "source": [
    "list1 = [1,2,3,'4',5,6.3,7.4 + 2j,\"123\",[1,2,3], 93, \"98\"]"
   ]
  },
  {
   "cell_type": "markdown",
   "metadata": {},
   "source": [
    "### Create a script or function to print each element of a list, along with its predecessor and its successor. Follow these rules:\n",
    "\n",
    "1. If this element is numeric or a string, print its representational value; and\n",
    "2. If the element is a container but not a string (tuple, list, dict, set, frozenset), print each element of the sequence."
   ]
  },
  {
   "cell_type": "code",
   "execution_count": 31,
   "metadata": {},
   "outputs": [
    {
     "name": "stdout",
     "output_type": "stream",
     "text": [
      "1\n",
      "2\n",
      "3\n",
      "4\n",
      "5\n",
      "6.3\n",
      "(7.4+2j)\n",
      "123\n",
      "1\n",
      "2\n",
      "3\n",
      "93\n",
      "98\n"
     ]
    }
   ],
   "source": [
    "list1 = [1,2,3,'4',5,6.3,7.4 + 2j,\"123\",[1,2,3], 93, \"98\"]\n",
    "\n",
    "for element in list1:\n",
    "    if isinstance(element, tuple) or \\\n",
    "    isinstance(element, list) or \\\n",
    "    isinstance(element, dict) or \\\n",
    "    isinstance(element, set) or \\\n",
    "    isinstance(element, frozenset):\n",
    "        for subelement in element:\n",
    "            print(subelement)\n",
    "    else:\n",
    "        print(element)"
   ]
  },
  {
   "cell_type": "markdown",
   "metadata": {},
   "source": [
    "### 3- Using the \"random\" library, create a script to average the sum of two 6-sided dice (D6) in 10,000 releases."
   ]
  },
  {
   "cell_type": "code",
   "execution_count": 77,
   "metadata": {},
   "outputs": [
    {
     "name": "stdout",
     "output_type": "stream",
     "text": [
      "35001\n"
     ]
    }
   ],
   "source": [
    "import random\n",
    "\n",
    "def rolls():\n",
    "    \n",
    "    values = []\n",
    "    \n",
    "    for x in range(1, 10001):\n",
    "        values.append(random.randint(1, 6))\n",
    "        values.append(random.randint(1, 6))\n",
    "    \n",
    "    print(int(sum(values)/2))\n",
    "\n",
    "rolls()\n"
   ]
  },
  {
   "cell_type": "markdown",
   "metadata": {},
   "source": [
    "### 4 - [Project Euler - Problem 3](https://projecteuler.net/problem=3)  \n",
    "  \n",
    "The prime factors of 13195 are 5, 7, 13 and 29.  \n",
    "What is the largest prime factor of the number 600851475143 ?"
   ]
  },
  {
   "cell_type": "code",
   "execution_count": 81,
   "metadata": {},
   "outputs": [
    {
     "data": {
      "text/plain": [
       "6857"
      ]
     },
     "execution_count": 81,
     "metadata": {},
     "output_type": "execute_result"
    }
   ],
   "source": [
    "def largest_prime_factor(n):\n",
    "    x = 2\n",
    "    while x * x <= n:\n",
    "        if n % x:\n",
    "            x += 1\n",
    "        else:\n",
    "            n //= x\n",
    "    return n\n",
    "    \n",
    "largest_prime_factor(600851475143)"
   ]
  },
  {
   "cell_type": "markdown",
   "metadata": {},
   "source": [
    "### 5 - [Project Euler - Problem 4](https://projecteuler.net/problem=4)  \n",
    "\n",
    "#### Largest palindrome product\n",
    "\n",
    "\"A palindromic number reads the same both ways. The largest palindrome made from the product of two 2-digit numbers is 9009 = 91 × 99.\"  \n",
    "\n",
    "**Find the largest palindrome made from the product of two 3-digit numbers.**"
   ]
  },
  {
   "cell_type": "markdown",
   "metadata": {},
   "source": [
    "###### Hint: How to reverse a string?"
   ]
  },
  {
   "cell_type": "code",
   "execution_count": 4,
   "metadata": {
    "jupyter": {
     "outputs_hidden": false
    }
   },
   "outputs": [
    {
     "data": {
      "text/plain": [
       "'gnirts modnar A'"
      ]
     },
     "execution_count": 4,
     "metadata": {},
     "output_type": "execute_result"
    }
   ],
   "source": [
    "'A random string'[-1::-1]"
   ]
  },
  {
   "cell_type": "code",
   "execution_count": null,
   "metadata": {},
   "outputs": [],
   "source": [
    "n = 0\n",
    "\n",
    "for a in range(9999, 100, -1):\n",
    "    for b in range(a, 100, -1):\n",
    "        x = a * b\n",
    "        if x > n:\n",
    "            s = str(a * b)\n",
    "            if s == s[::-1]:\n",
    "                n = a * b\n",
    "print(n)"
   ]
  },
  {
   "cell_type": "markdown",
   "metadata": {},
   "source": [
    "### 6 - [Project Euler - Problem 14](https://projecteuler.net/problem=14)  \n",
    "\n",
    "#### Longest Collatz sequence\n",
    "\n",
    "\n",
    "The following iterative sequence is defined for the set of positive integers:\n",
    "\n",
    "n → n/2 (n is even)\n",
    "n → 3n + 1 (n is odd)\n",
    "\n",
    "Using the rule above and starting with 13, we generate the following sequence:\n",
    "\n",
    "13 → 40 → 20 → 10 → 5 → 16 → 8 → 4 → 2 → 1\n",
    "It can be seen that this sequence (starting at 13 and finishing at 1) contains 10 terms. Although it has not been proved yet (Collatz Problem), it is thought that all starting numbers finish at 1.\n",
    "\n",
    "**Which starting number, under one million, produces the longest chain?**\n",
    "\n",
    "NOTE: Once the chain starts the terms are allowed to go above one million."
   ]
  },
  {
   "cell_type": "code",
   "execution_count": 94,
   "metadata": {},
   "outputs": [
    {
     "name": "stdout",
     "output_type": "stream",
     "text": [
      "837799\n"
     ]
    }
   ],
   "source": [
    "def next_collatz(n):\n",
    "    if n % 2 == 0:\n",
    "        return n / 2\n",
    "    else:\n",
    "        return 3*n + 1\n",
    "\n",
    "def collatz(start):\n",
    "    if start < 1:\n",
    "        raise ValueError(\"start must be greater than or equal to 1\")\n",
    "    elif start == 1:\n",
    "        return [1]\n",
    "\n",
    "    res = [start]\n",
    "    done = False\n",
    "    while not done:\n",
    "        res += [next_collatz(res[-1])]\n",
    "        if res[-1] == 1: done = True\n",
    "    return res\n",
    "\n",
    "_collatz_cache = {}\n",
    "def lencollatz(start):\n",
    "    if start < 1:\n",
    "        raise ValueError(\"start must be greater than or equal to 1\")\n",
    "    elif start == 1:\n",
    "        return 1\n",
    "\n",
    "    n = start\n",
    "    length = 1\n",
    "    done = False\n",
    "    while not done:\n",
    "        n = next_collatz(n)\n",
    "        try:\n",
    "            length += _collatz_cache[n]\n",
    "            done = True\n",
    "        except:\n",
    "            length += 1\n",
    "            if n == 1: done = True\n",
    "    _collatz_cache[start] = length\n",
    "    return length\n",
    "\n",
    "max_len = 0\n",
    "max_i = None\n",
    "for i in range(1, 1000000):\n",
    "    l = lencollatz(i)\n",
    "    if l > max_len:\n",
    "        max_len = l\n",
    "        max_i = i\n",
    "print(max_i)"
   ]
  }
 ],
 "metadata": {
  "kernelspec": {
   "display_name": "Python 3",
   "language": "python",
   "name": "python3"
  },
  "language_info": {
   "codemirror_mode": {
    "name": "ipython",
    "version": 3
   },
   "file_extension": ".py",
   "mimetype": "text/x-python",
   "name": "python",
   "nbconvert_exporter": "python",
   "pygments_lexer": "ipython3",
   "version": "3.8.8"
  }
 },
 "nbformat": 4,
 "nbformat_minor": 4
}
