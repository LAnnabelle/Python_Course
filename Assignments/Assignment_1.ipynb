{
 "cells": [
  {
   "cell_type": "markdown",
   "metadata": {},
   "source": [
    "## First Assignment"
   ]
  },
  {
   "cell_type": "markdown",
   "metadata": {},
   "source": [
    "#### 1) Apply the appropriate string methods to the **x** variable (as '.upper') to change it exactly to: \"$Dichlorodiphenyltrichloroethane$\"."
   ]
  },
  {
   "cell_type": "code",
   "execution_count": null,
   "metadata": {},
   "outputs": [],
   "source": [
    "x = \"DiClOrod  IFeNi  lTRicLOr oETaNo  DiChlorod iPHeny lTrichL oroEThaNe\""
   ]
  },
  {
   "cell_type": "code",
   "execution_count": 2,
   "metadata": {},
   "outputs": [
    {
     "data": {
      "text/plain": [
       "'Dichlorodiphenyltrichloroethane'"
      ]
     },
     "execution_count": 2,
     "metadata": {},
     "output_type": "execute_result"
    }
   ],
   "source": [
    "x = \"DiClOrod  IFeNi  lTRicLOr oETaNo  DiChlorod iPHeny lTrichL oroEThaNe\"\n",
    "x[32:68].lower().replace(\" \", \"\").capitalize()\n"
   ]
  },
  {
   "cell_type": "markdown",
   "metadata": {},
   "source": [
    "#### 2) Assign respectively the values: 'word', 15, 3.14 and 'list' to variables A, B, C and D in a single line of code. Then, print them in that same order on a single line separated by a space, using only one print statement."
   ]
  },
  {
   "cell_type": "code",
   "execution_count": 27,
   "metadata": {},
   "outputs": [
    {
     "name": "stdout",
     "output_type": "stream",
     "text": [
      "word 15 3.14 list\n"
     ]
    }
   ],
   "source": [
    "A, B, C, D = \"word\", 15, 3.14, \"list\"\n",
    "\n",
    "print(A, B, C, D)"
   ]
  },
  {
   "cell_type": "markdown",
   "metadata": {},
   "source": [
    "#### 3) Use the **input()** function to receive an input in the form **'68.4 1.71'**, that is, two floating point numbers in a line separated by space. Then, assign these numbers to the variables **w** and **h** respectively, which represent an individual's weight and height (hint: take a look at the '.split()' method). With this data, calculate the individual's Body Mass Index (BMI) from the following relationship: \n",
    "    \n",
    "\\begin{equation}\n",
    "BMI = \\dfrac{weight}{height^2}\n",
    "\\end{equation}"
   ]
  },
  {
   "cell_type": "code",
   "execution_count": 3,
   "metadata": {},
   "outputs": [
    {
     "name": "stdout",
     "output_type": "stream",
     "text": [
      "Enter your weight and height: 55 1.66\n",
      "Your BMI is 20.0\n"
     ]
    }
   ],
   "source": [
    "w, h = map(float, input(\"Enter your weight and height: \").split())\n",
    "bmi = w / (h * h)\n",
    "print(\"Your BMI is \" + str(round(bmi, 1)))"
   ]
  },
  {
   "cell_type": "markdown",
   "metadata": {},
   "source": [
    "#### This value can also be classified according to ranges of values, following to the table below. Use conditional structures to classify and print the classification assigned to the individual. \n",
    "\n",
    "<center><img src=\"https://healthtravelguide.com/wp-content/uploads/2020/06/Body-mass-index-table.png\" width=\"30%\"><\\center>  \n",
    "\n",
    "\n",
    "(source: https://healthtravelguide.com/bmi-calculator/)"
   ]
  },
  {
   "cell_type": "code",
   "execution_count": 5,
   "metadata": {},
   "outputs": [
    {
     "name": "stdout",
     "output_type": "stream",
     "text": [
      "Enter your weight and height: 55 1.66\n",
      "Normal weight\n"
     ]
    }
   ],
   "source": [
    "w, h = map(float, input(\"Enter your weight and height: \").split())\n",
    "bmi = w / (h * h)\n",
    "\n",
    "if (bmi < 18.5):\n",
    "    print(\"Underweight\")\n",
    "elif(bmi >= 25.0 and bmi <= 29.9):\n",
    "    print(\"Pre-obesity\")\n",
    "elif(bmi >= 30.0 and bmi <= 34.9):\n",
    "    print(\"Obesity class I\")\n",
    "elif(bmi >= 35.0 and bmi <= 39.9):\n",
    "    print(\"Obesity class II\")\n",
    "elif(bmi > 40):\n",
    "    print(\"Obesity class III\")\n",
    "else:\n",
    "    print(\"Normal weight\")\n"
   ]
  },
  {
   "cell_type": "markdown",
   "metadata": {},
   "source": [
    "#### 4) Receive an integer as an input and, using a loop, calculate the factorial of this number, that is, the product of all the integers from one to the number provided. "
   ]
  },
  {
   "cell_type": "code",
   "execution_count": 6,
   "metadata": {},
   "outputs": [
    {
     "name": "stdout",
     "output_type": "stream",
     "text": [
      "Enter a number:6\n",
      "720\n"
     ]
    }
   ],
   "source": [
    "num = int(input(\"Enter a number:\"))\n",
    "\n",
    "f = 1\n",
    "\n",
    "for i in range(1, num + 1):\n",
    "    f = f * i\n",
    "\n",
    "print(f)"
   ]
  },
  {
   "cell_type": "markdown",
   "metadata": {},
   "source": [
    "#### 5) Using a while loop and the input function, read an indefinite number of integers until the number read is -1. Present the sum of all these numbers in the form of a print, excluding the -1 read at the end. "
   ]
  },
  {
   "cell_type": "code",
   "execution_count": 7,
   "metadata": {},
   "outputs": [
    {
     "name": "stdout",
     "output_type": "stream",
     "text": [
      "Enter Number: 6\n",
      "Enter Num: 6\n",
      "Enter Num: -1\n",
      "['6', '6']\n"
     ]
    }
   ],
   "source": [
    "inputs = input(\"Enter Number: \")\n",
    "list = []\n",
    "\n",
    "while int(inputs) != -1:\n",
    "    list.append(inputs)\n",
    "    inputs = input(\"Enter Num: \")\n",
    "print(list)    "
   ]
  },
  {
   "cell_type": "markdown",
   "metadata": {},
   "source": [
    "#### 6) Read the **first name** of an employee, his **amount of hours worked** and the **salary per hour** in a single line separated by commas. Next, calculate the **total salary** for this employee and show it to two decimal places."
   ]
  },
  {
   "cell_type": "code",
   "execution_count": 8,
   "metadata": {},
   "outputs": [
    {
     "name": "stdout",
     "output_type": "stream",
     "text": [
      "{'first_name': 'Joe', 'hours_worked': 304, 'hourly_wage': 24}\n",
      "7296\n"
     ]
    }
   ],
   "source": [
    "employee = {\n",
    "    \"first_name\": \"Joe\",\n",
    "    \"hours_worked\": 304,\n",
    "    \"hourly_wage\": 24\n",
    "}\n",
    "\n",
    "print(employee)\n",
    "\n",
    "total_salary = employee[\"hours_worked\"] * employee[\"hourly_wage\"]\n",
    "\n",
    "print(round(total_salary, 2))"
   ]
  },
  {
   "cell_type": "markdown",
   "metadata": {},
   "source": [
    "#### 7) Read three floating point values **A**, **B** and **C** respectively. Then calculate itens a, b, c, d and e: "
   ]
  },
  {
   "cell_type": "code",
   "execution_count": 9,
   "metadata": {},
   "outputs": [
    {
     "name": "stdout",
     "output_type": "stream",
     "text": [
      "Enter decimal numbers: 6.6 5.5 3.3\n"
     ]
    }
   ],
   "source": [
    "A, B, C = map(float, input(\"Enter decimal numbers: \").split())"
   ]
  },
  {
   "cell_type": "markdown",
   "metadata": {},
   "source": [
    "    a) the area of the triangle rectangle with A as the base and C as the height."
   ]
  },
  {
   "cell_type": "code",
   "execution_count": 10,
   "metadata": {},
   "outputs": [
    {
     "name": "stdout",
     "output_type": "stream",
     "text": [
      "Enter base and height: 4 5\n",
      "The area of this triangle is: 10.0\n"
     ]
    }
   ],
   "source": [
    "A, C = map(float, input(\"Enter base and height: \").split())\n",
    "\n",
    "area = (A * C) / 2 \n",
    "\n",
    "print(\"The area of this triangle is: \" + str(area))"
   ]
  },
  {
   "cell_type": "markdown",
   "metadata": {},
   "source": [
    "    b) the area of the circle of radius C. (pi = 3.14159) "
   ]
  },
  {
   "cell_type": "code",
   "execution_count": 11,
   "metadata": {},
   "outputs": [
    {
     "name": "stdout",
     "output_type": "stream",
     "text": [
      "Enter radius: 5\n",
      "The area of this circle is: 78.53981633974483\n"
     ]
    }
   ],
   "source": [
    "C = float(input(\"Enter radius: \"))\n",
    "\n",
    "import math\n",
    "area = (C * C) * math.pi\n",
    "\n",
    "print(\"The area of this circle is: \" + str(area))"
   ]
  },
  {
   "cell_type": "markdown",
   "metadata": {},
   "source": [
    "    c) the area of the trapezoid that has A and B for bases and C for height. "
   ]
  },
  {
   "cell_type": "code",
   "execution_count": 12,
   "metadata": {},
   "outputs": [
    {
     "name": "stdout",
     "output_type": "stream",
     "text": [
      "Enter bases and height: 6 5 4\n",
      "The area of this trapezoid is: 22.0\n"
     ]
    }
   ],
   "source": [
    "A, B, C = map(float, input(\"Enter bases and height: \").split())\n",
    "\n",
    "area = ((A + B) / 2) * C \n",
    "\n",
    "print(\"The area of this trapezoid is: \" + str(area))"
   ]
  },
  {
   "cell_type": "markdown",
   "metadata": {},
   "source": [
    "    d) the area of the square that has side B. "
   ]
  },
  {
   "cell_type": "code",
   "execution_count": 13,
   "metadata": {},
   "outputs": [
    {
     "name": "stdout",
     "output_type": "stream",
     "text": [
      "Enter side: 4\n",
      "The area of this square is: 16.0\n"
     ]
    }
   ],
   "source": [
    "B = float(input(\"Enter side: \"))\n",
    "\n",
    "area = B * B\n",
    "\n",
    "print(\"The area of this square is: \" + str(area))"
   ]
  },
  {
   "cell_type": "markdown",
   "metadata": {},
   "source": [
    "    e) the area of the rectangle that has sides A and B. "
   ]
  },
  {
   "cell_type": "code",
   "execution_count": 14,
   "metadata": {},
   "outputs": [
    {
     "name": "stdout",
     "output_type": "stream",
     "text": [
      "Enter base and height: 3 5\n",
      "The area of this rectangle is: 15.0\n"
     ]
    }
   ],
   "source": [
    "A, B = map(float, input(\"Enter base and height: \").split())\n",
    "\n",
    "area = A * B\n",
    "\n",
    "print(\"The area of this rectangle is: \" + str(area))"
   ]
  },
  {
   "cell_type": "markdown",
   "metadata": {},
   "source": [
    "#### 8) Read **the values a, b and c** and calculate the **roots of the second degree equation** $ax^{2}+bx+c=0$ using [this formula](https://en.wikipedia.org/wiki/Quadratic_equation). If it is not possible to calculate the roots, display the message **“There are no real roots”**. "
   ]
  },
  {
   "cell_type": "code",
   "execution_count": 16,
   "metadata": {},
   "outputs": [
    {
     "name": "stdout",
     "output_type": "stream",
     "text": [
      "Enter numbers: 2 1 1\n",
      "There are no real roots\n"
     ]
    }
   ],
   "source": [
    "import cmath\n",
    "\n",
    "a, b, c = map(float, input(\"Enter numbers: \").split())\n",
    "\n",
    "d = (b**2) - (4 *a * c)\n",
    "\n",
    "r1 = (-b - cmath.sqrt(d)) / (2 * a)\n",
    "r2 = (-b + cmath.sqrt(d)) / (2 * a)\n",
    "\n",
    "if(d < 0):\n",
    "    print(\"There are no real roots\")\n",
    "else:\n",
    "    print(r1, r2)"
   ]
  },
  {
   "cell_type": "markdown",
   "metadata": {},
   "source": [
    "#### 9) Read four floating point numerical values corresponding to the coordinates of two geographical coordinates in the cartesian plane. Each point will come in a line with its coordinates separated by space. Then calculate and show the distance between these two points. \n",
    "\n",
    "(obs: $d=\\sqrt{(x_1-x_2)^2 + (y_1-y_2)^2}$)"
   ]
  },
  {
   "cell_type": "code",
   "execution_count": 17,
   "metadata": {},
   "outputs": [
    {
     "name": "stdout",
     "output_type": "stream",
     "text": [
      "Enter first point coordinates: 5 6\n",
      "Enter second point coordinates: 3 5\n",
      "2.23606797749979\n"
     ]
    }
   ],
   "source": [
    "import math\n",
    "\n",
    "p1 = []\n",
    "p2 = []\n",
    "\n",
    "x1, y1 = map(float, input(\"Enter first point coordinates: \").split())\n",
    "x2, y2 = map(float, input(\"Enter second point coordinates: \").split())\n",
    "\n",
    "p1.append(x1)\n",
    "p1.append(y1)\n",
    "p2.append(x2)\n",
    "p2.append(y2)\n",
    "\n",
    "distance = math.sqrt(((p1[0] - p2[0])**2) + ((p1[1] - p2[1])**2))\n",
    "\n",
    "print(distance)"
   ]
  },
  {
   "cell_type": "markdown",
   "metadata": {},
   "source": [
    "#### 10) Read **two floating point numbers** on a line that represent **coordinates of a cartesian point**. With this, use **conditional structures** to determine if you are at the origin, printing the message **'origin'**; in one of the axes, printing **'x axis'** or **'y axis'**; or in one of the four quadrants, printing **'q1'**, **'q2**', **'q3'** or **'q4'**. "
   ]
  },
  {
   "cell_type": "code",
   "execution_count": 22,
   "metadata": {},
   "outputs": [
    {
     "name": "stdout",
     "output_type": "stream",
     "text": [
      "Enter x-value and y-value: 1 -4\n",
      "q4\n"
     ]
    }
   ],
   "source": [
    "x, y  = map(float, input(\"Enter x-value and y-value: \").split())\n",
    "\n",
    "if x > 0 and y > 0:\n",
    "    print(\"q1\")\n",
    "elif x < 0 and y > 0:\n",
    "    print(\"q2\")\n",
    "elif x < 0 and y < 0:\n",
    "    print(\"q3\")\n",
    "elif x > 0 and y < 0:\n",
    "    print(\"q4\")\n",
    "else: \n",
    "    print(\"origin\")"
   ]
  },
  {
   "cell_type": "markdown",
   "metadata": {},
   "source": [
    "#### 11) Read an integer that represents a phone code for international dialing.  \n",
    "#### Then, inform to which country the code belongs to, considering the generated table below:\n",
    "(You just need to consider the first 10 entries)  "
   ]
  },
  {
   "cell_type": "code",
   "execution_count": 9,
   "metadata": {},
   "outputs": [
    {
     "data": {
      "text/html": [
       "<div>\n",
       "<style scoped>\n",
       "    .dataframe tbody tr th:only-of-type {\n",
       "        vertical-align: middle;\n",
       "    }\n",
       "\n",
       "    .dataframe tbody tr th {\n",
       "        vertical-align: top;\n",
       "    }\n",
       "\n",
       "    .dataframe thead th {\n",
       "        text-align: right;\n",
       "    }\n",
       "</style>\n",
       "<table border=\"1\" class=\"dataframe\">\n",
       "  <thead>\n",
       "    <tr style=\"text-align: right;\">\n",
       "      <th></th>\n",
       "      <th>Country</th>\n",
       "      <th>Country calling code</th>\n",
       "    </tr>\n",
       "  </thead>\n",
       "  <tbody>\n",
       "    <tr>\n",
       "      <th>0</th>\n",
       "      <td>Austria</td>\n",
       "      <td>43</td>\n",
       "    </tr>\n",
       "    <tr>\n",
       "      <th>1</th>\n",
       "      <td>Belgium</td>\n",
       "      <td>32</td>\n",
       "    </tr>\n",
       "    <tr>\n",
       "      <th>2</th>\n",
       "      <td>Bulgaria</td>\n",
       "      <td>359</td>\n",
       "    </tr>\n",
       "    <tr>\n",
       "      <th>3</th>\n",
       "      <td>Croatia</td>\n",
       "      <td>385</td>\n",
       "    </tr>\n",
       "    <tr>\n",
       "      <th>4</th>\n",
       "      <td>Cyprus</td>\n",
       "      <td>357</td>\n",
       "    </tr>\n",
       "    <tr>\n",
       "      <th>5</th>\n",
       "      <td>Czech Republic</td>\n",
       "      <td>420</td>\n",
       "    </tr>\n",
       "    <tr>\n",
       "      <th>6</th>\n",
       "      <td>Denmark</td>\n",
       "      <td>45</td>\n",
       "    </tr>\n",
       "    <tr>\n",
       "      <th>7</th>\n",
       "      <td>Estonia</td>\n",
       "      <td>372</td>\n",
       "    </tr>\n",
       "    <tr>\n",
       "      <th>8</th>\n",
       "      <td>Finland</td>\n",
       "      <td>358</td>\n",
       "    </tr>\n",
       "    <tr>\n",
       "      <th>9</th>\n",
       "      <td>France</td>\n",
       "      <td>33</td>\n",
       "    </tr>\n",
       "    <tr>\n",
       "      <th>10</th>\n",
       "      <td>Germany</td>\n",
       "      <td>49</td>\n",
       "    </tr>\n",
       "    <tr>\n",
       "      <th>11</th>\n",
       "      <td>Greece</td>\n",
       "      <td>30</td>\n",
       "    </tr>\n",
       "    <tr>\n",
       "      <th>12</th>\n",
       "      <td>Hungary</td>\n",
       "      <td>36</td>\n",
       "    </tr>\n",
       "    <tr>\n",
       "      <th>13</th>\n",
       "      <td>Iceland</td>\n",
       "      <td>354</td>\n",
       "    </tr>\n",
       "    <tr>\n",
       "      <th>14</th>\n",
       "      <td>Ireland</td>\n",
       "      <td>353</td>\n",
       "    </tr>\n",
       "    <tr>\n",
       "      <th>15</th>\n",
       "      <td>Italy</td>\n",
       "      <td>39</td>\n",
       "    </tr>\n",
       "    <tr>\n",
       "      <th>16</th>\n",
       "      <td>Latvia</td>\n",
       "      <td>371</td>\n",
       "    </tr>\n",
       "    <tr>\n",
       "      <th>17</th>\n",
       "      <td>Liechtenstein</td>\n",
       "      <td>423</td>\n",
       "    </tr>\n",
       "    <tr>\n",
       "      <th>18</th>\n",
       "      <td>Lithuania</td>\n",
       "      <td>370</td>\n",
       "    </tr>\n",
       "    <tr>\n",
       "      <th>19</th>\n",
       "      <td>Luxembourg</td>\n",
       "      <td>352</td>\n",
       "    </tr>\n",
       "  </tbody>\n",
       "</table>\n",
       "</div>"
      ],
      "text/plain": [
       "           Country Country calling code\n",
       "0          Austria                   43\n",
       "1          Belgium                   32\n",
       "2         Bulgaria                  359\n",
       "3          Croatia                  385\n",
       "4           Cyprus                  357\n",
       "5   Czech Republic                  420\n",
       "6          Denmark                   45\n",
       "7          Estonia                  372\n",
       "8          Finland                  358\n",
       "9           France                   33\n",
       "10         Germany                   49\n",
       "11          Greece                   30\n",
       "12         Hungary                   36\n",
       "13         Iceland                  354\n",
       "14         Ireland                  353\n",
       "15           Italy                   39\n",
       "16          Latvia                  371\n",
       "17   Liechtenstein                  423\n",
       "18       Lithuania                  370\n",
       "19      Luxembourg                  352"
      ]
     },
     "execution_count": 9,
     "metadata": {},
     "output_type": "execute_result"
    }
   ],
   "source": [
    "import pandas as pd\n",
    "df = pd.read_html('https://en.wikipedia.org/wiki/Telephone_numbers_in_Europe')[1]\n",
    "df = df.iloc[:,:2]\n",
    "df.head(20)"
   ]
  },
  {
   "cell_type": "code",
   "execution_count": 23,
   "metadata": {},
   "outputs": [
    {
     "name": "stdout",
     "output_type": "stream",
     "text": [
      "Enter phone code: 33\n",
      "France\n"
     ]
    }
   ],
   "source": [
    "n = int(input(\"Enter phone code: \"))\n",
    "\n",
    "if(n == 43):\n",
    "    print(\"Austria\")\n",
    "elif(n == 32):\n",
    "    print(\"Belgium\")\n",
    "elif(n == 359):\n",
    "    print(\"Bulgaria\")\n",
    "elif(n == 385):\n",
    "    print(\"Croatia\")\n",
    "elif(n == 357):\n",
    "    print(\"Cyprus\")\n",
    "elif(n == 420):\n",
    "    print(\"Czech Republic\")\n",
    "elif(n == 45):\n",
    "    print(\"Denmark\")\n",
    "elif(n == 372):\n",
    "    print(\"Estonia\")\n",
    "elif(n == 358):\n",
    "    print(\"Finland\")\n",
    "elif(n == 33):\n",
    "    print(\"France\")"
   ]
  },
  {
   "cell_type": "markdown",
   "metadata": {},
   "source": [
    "#### 12) Write a piece of code that reads 6 numbers in a row. Next, show the number of positive values entered. On the next line, print the average of the values to one decimal place. "
   ]
  },
  {
   "cell_type": "code",
   "execution_count": null,
   "metadata": {},
   "outputs": [],
   "source": [
    "inputs = float(input(\"Enter Number: \"))\n",
    "list = []\n",
    "\n",
    "while len(list) < 5:\n",
    "    list.append(inputs)\n",
    "    inputs = float(input(\"Enter Num: \"))\n",
    "\n",
    "pos_count = 1\n",
    "\n",
    "for num in list:\n",
    "    if num >= 0:\n",
    "        pos_count += 1\n",
    "\n",
    "print(\"number of positive numbers\", pos_count)\n",
    "print(\"average of values\", round(sum(list) / len(list), 1))"
   ]
  },
  {
   "cell_type": "markdown",
   "metadata": {},
   "source": [
    "#### 13) Read an integer **N**. Then print the **square of each of the even values**, from 1 to N, including N, if applicable, arranged one per line. "
   ]
  },
  {
   "cell_type": "code",
   "execution_count": null,
   "metadata": {},
   "outputs": [],
   "source": [
    "n = int(input(\"Enter Number: \"))\n",
    "\n",
    "for n in range(1, n + 1):\n",
    "    if n % 2 == 0:\n",
    "        print(n * n)"
   ]
  },
  {
   "cell_type": "markdown",
   "metadata": {},
   "source": [
    "#### 14) Using **input()**, read an integer and print its classification as **'even / odd'** and **'positive / negative'** . The two classes for the number must be printed on the same line separated by a space. In the case of zero, print only **'null'**. "
   ]
  },
  {
   "cell_type": "code",
   "execution_count": null,
   "metadata": {},
   "outputs": [],
   "source": [
    "n = int(input(\"Enter a number: \"))\n",
    "\n",
    "if(n < 0 and n%2 != 0):\n",
    "    print(\"negative odd\")\n",
    "elif(n > 0 and n%2 == 0):\n",
    "    print(\"positive even\")\n",
    "elif(n < 0 and n%2 == 0):\n",
    "    print(\"negative even\")\n",
    "elif(n > 0 and n%2 != 0):\n",
    "    print(\"positive odd\")\n",
    "elif(n == 0):\n",
    "    print(\"null\")"
   ]
  },
  {
   "cell_type": "markdown",
   "metadata": {},
   "source": [
    "## Challenge\n",
    "#### 15) Ordering problems are recurrent in the history of programming. Over time, several algorithms have been developed to fulfill this function. The simplest of these algorithms is the [**Bubble Sort**](https://en.wikipedia.org/wiki/Bubble_sort), which is based on comparisons of elements two by two in a loop of passes through the elements. Your mission, if you decide to accept it, will be to input six whole numbers ramdonly ordered. Then implement the **Bubble Sort** principle to order these six numbers **using only loops and conditionals**.  \n",
    "#### At the end, print the six numbers in ascending order on a single line separated by spaces. "
   ]
  },
  {
   "cell_type": "code",
   "execution_count": null,
   "metadata": {},
   "outputs": [],
   "source": [
    "inputs = int(input(\"Enter Number: \"))\n",
    "list = []\n",
    "\n",
    "while len(list) < 6:\n",
    "    list.append(inputs)\n",
    "    inputs = int(input(\"Enter Number: \"))\n",
    " \n",
    "count = len(list)\n",
    " \n",
    "for outer in range(count - 1):\n",
    "    for i in range(count - outer - 1):\n",
    "        if list[i] > list[i + 1]:\n",
    "            list[i], list[i + 1] = list[i + 1], list[i]\n",
    " \n",
    "print(*list)"
   ]
  }
 ],
 "metadata": {
  "kernelspec": {
   "display_name": "Python 3",
   "language": "python",
   "name": "python3"
  },
  "language_info": {
   "codemirror_mode": {
    "name": "ipython",
    "version": 3
   },
   "file_extension": ".py",
   "mimetype": "text/x-python",
   "name": "python",
   "nbconvert_exporter": "python",
   "pygments_lexer": "ipython3",
   "version": "3.8.8"
  }
 },
 "nbformat": 4,
 "nbformat_minor": 4
}
